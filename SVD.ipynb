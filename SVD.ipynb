{
 "cells": [
  {
   "cell_type": "code",
   "execution_count": 85,
   "id": "afdb78c9-80c2-4227-80a2-8d37f583f2cf",
   "metadata": {},
   "outputs": [],
   "source": [
    "import numpy as np\n",
    "import matplotlib.pyplot as plt\n",
    "np.set_printoptions(formatter={'float': lambda x: \"{0:0.3f}\".format(x)})"
   ]
  },
  {
   "cell_type": "markdown",
   "id": "53f69d09-f534-4ba5-83a7-0dc8732ade5b",
   "metadata": {},
   "source": [
    "### Intuition\n",
    "\n",
    "SVD\n",
    "- say we want to decompose a square matrix $M$\n",
    "- we will represent it as $M = U \\Sigma V$\n",
    "    - $U$ is again a rotation matrix\n",
    "    - $\\Sigma$ is a diagonal matrix, scaling each row of $V$\n",
    "    - $V$ is a rotation matrix, rows of $V$ are (orthonormal) singular vectors\n",
    "- suppose $M$ is $[n \\times d]$ and we only keep the firs $n \\leq c$ dimensions, then:\n",
    "    - $U: [c \\times d]$\n",
    "    - $\\Sigma: [d \\times d]$\n",
    "    - $V: [d \\times n]$\n",
    "- if $d = 1$:\n",
    "    - $U: [c \\times 1]$\n",
    "    - $\\Sigma: [1 \\times 1]$\n",
    "    - $V: [1 \\times n]$\n",
    "    \n",
    "PCA\n",
    "- sequence of vectors, where each vector is\n",
    "    - orthogonal to the previous vectors\n",
    "    - the direction of a line that best fits the data\n",
    "- the rows of $U$ (from SVD) are equal to these principal vectors"
   ]
  },
  {
   "cell_type": "markdown",
   "id": "a4f11589-4d57-4251-8627-1b8698996810",
   "metadata": {},
   "source": [
    "### generate random matrix"
   ]
  },
  {
   "cell_type": "code",
   "execution_count": 101,
   "id": "13166f52-769f-48bd-ba1b-f6272ecad748",
   "metadata": {},
   "outputs": [
    {
     "data": {
      "text/plain": [
       "array([[1.764, 0.400, 0.979, 2.241, 1.868],\n",
       "       [-0.977, 0.950, -0.151, -0.103, 0.411],\n",
       "       [0.144, 1.454, 0.761, 0.122, 0.444],\n",
       "       [0.334, 1.494, -0.205, 0.313, -0.854]])"
      ]
     },
     "execution_count": 101,
     "metadata": {},
     "output_type": "execute_result"
    }
   ],
   "source": [
    "n = 4 # number of samples\n",
    "d = 5 # number of features of each sample\n",
    "np.random.seed(0)\n",
    "m = np.random.normal(size=[n, d])\n",
    "m"
   ]
  },
  {
   "cell_type": "markdown",
   "id": "d065f61b-2470-4445-86e2-18f58537366c",
   "metadata": {},
   "source": [
    "### do SVD"
   ]
  },
  {
   "cell_type": "code",
   "execution_count": 102,
   "id": "f9e49989-00e9-497a-bd49-f284a02b6f1c",
   "metadata": {},
   "outputs": [
    {
     "name": "stdout",
     "output_type": "stream",
     "text": [
      "(4, 4) (4,) (4, 5)\n",
      "[[0.967 0.157 -0.001 -0.203]\n",
      " [-0.050 -0.446 -0.682 -0.578]\n",
      " [0.247 -0.578 -0.262 0.733]\n",
      " [0.047 -0.666 0.683 -0.296]]\n",
      "[3.671 2.277 1.346 0.681]\n",
      "[[0.492 0.209 0.308 0.604 0.505]\n",
      " [0.179 -0.964 -0.036 0.052 0.185]\n",
      " [0.635 -0.006 -0.176 0.186 -0.729]\n",
      " [0.314 -0.012 0.745 -0.586 -0.056]]\n"
     ]
    }
   ],
   "source": [
    "U, E, V = np.linalg.svd(m, full_matrices=False)\n",
    "print(U.shape, E.shape, V.shape)\n",
    "print(f'{U}\\n{E}\\n{V}')"
   ]
  },
  {
   "cell_type": "markdown",
   "id": "c6dae50c-1071-4d90-b6ee-b2d563391cdc",
   "metadata": {},
   "source": [
    "### plot SVD error by the num. of components used"
   ]
  },
  {
   "cell_type": "code",
   "execution_count": 103,
   "id": "5ed0be87-2347-42f4-9c6e-067332fb8c1d",
   "metadata": {},
   "outputs": [],
   "source": [
    "def approximate(m, d):\n",
    "    U, E, V = np.linalg.svd(m, full_matrices=False)\n",
    "    m_ = (U[:, :d] @ (E[:d, None]*V[:d]))\n",
    "    return m_"
   ]
  },
  {
   "cell_type": "code",
   "execution_count": 104,
   "id": "03a17ff7-eb81-4b95-8718-cc508e7b0038",
   "metadata": {},
   "outputs": [
    {
     "data": {
      "image/png": "[encoded data removed]",
      "text/plain": [
       "<Figure size 504x288 with 4 Axes>"
      ]
     },
     "metadata": {},
     "output_type": "display_data"
    }
   ],
   "source": [
    "fig, axs = plt.subplots(2, 2, figsize=[7, 4])\n",
    "axs = axs.flatten()\n",
    "for i in range(N):\n",
    "    m_diff = m - approximate(m, i+1)\n",
    "    axs[i].imshow(m_diff, vmin=0, vmax=1, cmap='gray', label='i')\n",
    "    axs[i].set_xticks([])\n",
    "    axs[i].set_yticks([])\n",
    "    # axs[i].legend()\n",
    "plt.tight_layout()\n",
    "plt.show()"
   ]
  },
  {
   "cell_type": "markdown",
   "id": "39ba3876-c167-4452-bd13-a1e91afb1b68",
   "metadata": {},
   "source": [
    "### playground"
   ]
  },
  {
   "cell_type": "code",
   "execution_count": 100,
   "id": "333ea2c9-06ba-4525-b629-5a731c3df4ff",
   "metadata": {},
   "outputs": [
    {
     "data": {
      "text/plain": [
       "array([[1.000, 1.000, 1.000, 1.000, 0.000, 0.000],\n",
       "       [0.000, 0.000, 0.000, 1.000, 0.000, 0.000],\n",
       "       [0.000, 0.000, 0.000, 1.000, 0.000, 0.000]])"
      ]
     },
     "execution_count": 100,
     "metadata": {},
     "output_type": "execute_result"
    }
   ],
   "source": [
    "a = np.zeros([3, 3])\n",
    "a[0, :] = 1\n",
    "b = np.zeros([3, 3])\n",
    "b[:, 0] = 1\n",
    "np.concatenate([a, b], axis=1)"
   ]
  },
  {
   "cell_type": "code",
   "execution_count": null,
   "id": "3638936e-c658-4bf0-8565-831e5ee068a5",
   "metadata": {},
   "outputs": [],
   "source": []
  }
 ],
 "metadata": {
  "kernelspec": {
   "display_name": "Python 3 (ipykernel)",
   "language": "python",
   "name": "python3"
  },
  "language_info": {
   "codemirror_mode": {
    "name": "ipython",
    "version": 3
   },
   "file_extension": ".py",
   "mimetype": "text/x-python",
   "name": "python",
   "nbconvert_exporter": "python",
   "pygments_lexer": "ipython3",
   "version": "3.9.9"
  }
 },
 "nbformat": 4,
 "nbformat_minor": 5
}
