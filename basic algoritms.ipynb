{
 "cells": [
  {
   "cell_type": "code",
   "execution_count": 2,
   "id": "31593acd",
   "metadata": {
    "tags": []
   },
   "outputs": [],
   "source": [
    "import numpy as np\n",
    "import matplotlib.pyplot as plt\n",
    "from typing import Optional, List, Tuple, Any\n",
    "from copy import copy"
   ]
  },
  {
   "cell_type": "markdown",
   "id": "88356af3",
   "metadata": {
    "tags": []
   },
   "source": [
    "# sorting"
   ]
  },
  {
   "cell_type": "code",
   "execution_count": 3,
   "id": "3d49a828-8561-4671-978c-89f43013e9ec",
   "metadata": {},
   "outputs": [],
   "source": [
    "def simplesort(a):\n",
    "    \"\"\"the simplest sort possible? arxiv.org/abs/2110.01111\"\"\"\n",
    "    for i in range(len(a)):\n",
    "        for j in range(len(a)):\n",
    "            if a[i] < a[j]:\n",
    "                a[i], a[j] = a[j], a[i]"
   ]
  },
  {
   "cell_type": "code",
   "execution_count": 4,
   "id": "11b0e3fd",
   "metadata": {},
   "outputs": [],
   "source": [
    "def quicksort1(a):\n",
    "    \"\"\"a simple yet relatively fast implementation\"\"\"\n",
    "    if len(a) <= 1:\n",
    "        return a\n",
    "    \n",
    "    pivot = a[0]\n",
    "    smaller = [x for x in a if x < pivot]\n",
    "    equal = [x for x in a if x == pivot]\n",
    "    bigger = [x for x in a if x > pivot]\n",
    "    return quicksort1(smaller) + equal + quicksort1(bigger)"
   ]
  },
  {
   "cell_type": "code",
   "execution_count": 5,
   "id": "cc17e886-aa91-444c-838c-0a8ae8e4f705",
   "metadata": {},
   "outputs": [],
   "source": [
    "def quicksort2(a, lo=None, hi=None):\n",
    "    \"\"\"a more complicated but slightly faster implementation\"\"\"\n",
    "    if lo is None: lo = 0\n",
    "    if hi is None: hi = len(a) - 1\n",
    "    \n",
    "    if lo < hi:\n",
    "        p = partition(a, lo, hi)\n",
    "        quicksort2(a, lo, p)\n",
    "        quicksort2(a, p+1, hi)\n",
    "\n",
    "        \n",
    "def partition(a, lo, hi):\n",
    "    # choose a pivot\n",
    "    pivot = a[(lo + hi) // 2]\n",
    "    \n",
    "    while True:\n",
    "        # print(pivot, lo, hi)\n",
    "        # find elements that need to be swapped\n",
    "        while a[lo] < pivot: lo += 1\n",
    "        while a[hi] > pivot: hi -= 1\n",
    "            \n",
    "        # check if the array is already partitioned\n",
    "        # - 'hi' has to be returned here since it is the lower index and in 'quicksort2'\n",
    "        #   I use quicksort2(a, lo, p), quicksort2(a, p+1, hi), so p cannot be higher than the pivot\n",
    "        if lo >= hi: return hi\n",
    "        \n",
    "        # swap the elements\n",
    "        a[lo], a[hi] = a[hi], a[lo]\n",
    "        lo, hi = lo+1, hi-1"
   ]
  },
  {
   "cell_type": "code",
   "execution_count": 11,
   "id": "6ef7baa4-0073-4df0-ad5f-ccd77ed9a4f7",
   "metadata": {},
   "outputs": [],
   "source": [
    "def counting_sort(a, n_min=0, n_max=10**4):\n",
    "        a = np.array(a)\n",
    "        out = np.zeros_like(a)\n",
    "        counts = np.zeros(n_max-n_min+1, dtype=np.int32)\n",
    "        \n",
    "        # increment counter\n",
    "        np.add.at(counts, a-n_min, 1)\n",
    "        \n",
    "        # make counter cummulative\n",
    "        counts = np.cumsum(counts)\n",
    "        \n",
    "        # fill output array\n",
    "        for n in a:\n",
    "            out[counts[n-n_min]-1] = n\n",
    "            counts[n-n_min] -= 1\n",
    "    \n",
    "        return list(out)"
   ]
  },
  {
   "cell_type": "code",
   "execution_count": 14,
   "id": "33270a9c-234d-492f-a717-86c1c0bc36b5",
   "metadata": {},
   "outputs": [],
   "source": [
    "# test: correctness\n",
    "n = 1_000\n",
    "a = list(np.random.randint(0, n, n))\n",
    "assert quicksort1(copy(a)) == sorted(a)\n",
    "assert counting_sort(copy(a)) == sorted(a)\n",
    "assert (simplesort(b := copy(a)) or b) == sorted(a) # inplace sorting\n",
    "assert (quicksort2(b := copy(a)) or b) == sorted(a) # inplace sorting"
   ]
  },
  {
   "cell_type": "code",
   "execution_count": 15,
   "id": "fd737cd0-90c3-474a-a654-84a7908a3016",
   "metadata": {},
   "outputs": [
    {
     "name": "stdout",
     "output_type": "stream",
     "text": [
      "CPU times: user 234 ms, sys: 1.88 ms, total: 236 ms\n",
      "Wall time: 236 ms\n",
      "CPU times: user 2.67 ms, sys: 101 µs, total: 2.77 ms\n",
      "Wall time: 2.77 ms\n",
      "CPU times: user 2.26 ms, sys: 0 ns, total: 2.26 ms\n",
      "Wall time: 2.26 ms\n",
      "CPU times: user 1.67 ms, sys: 78 µs, total: 1.75 ms\n",
      "Wall time: 1.74 ms\n"
     ]
    }
   ],
   "source": [
    "# test: speed\n",
    "a = list(np.random.permutation(2_000))\n",
    "%time _ = simplesort(copy(a))\n",
    "%time _ = quicksort1(copy(a))\n",
    "%time _ = quicksort2(copy(a))\n",
    "%time _ = counting_sort(copy(a))"
   ]
  },
  {
   "cell_type": "markdown",
   "id": "a4d8f3ed-23a0-4cee-9f2c-ed28f2ff8f1f",
   "metadata": {},
   "source": [
    "# argsort"
   ]
  },
  {
   "cell_type": "markdown",
   "id": "e26c68eb-e8d6-478e-a422-73c11d82a102",
   "metadata": {},
   "source": [
    "- if `o = argsort(a)`, then `a[o] == sorted(a)`\n",
    "- if `o = argsort(argsort(a))`, then `o` is the order of elements in `a` (ie 0 means that it is the smallest element)\n",
    "    - `argsort(a)[i]` is like asking *\"what's the index of the `i`th smallest element in `a`?\"*\n",
    "    - `argsort[i]` of a shuffled array `1..n` is like asking *\"what's the position of element `i` in the array?\"*\n",
    "    - hence, `argsort(argsort(a))[i]` is like asking *\"what's the position of the `i`th element in its order, ie what's its order?\"*"
   ]
  },
  {
   "cell_type": "code",
   "execution_count": 19,
   "id": "b8431426-2355-4f8b-9b91-bb606388c34b",
   "metadata": {},
   "outputs": [
    {
     "name": "stdout",
     "output_type": "stream",
     "text": [
      "[1, 9, 3, 4, 7]\n",
      "[0, 2, 3, 4, 1]\n",
      "[0, 4, 1, 2, 3]\n"
     ]
    }
   ],
   "source": [
    "def argsort(a):\n",
    "    return sorted(range(len(a)), key=a.__getitem__)\n",
    "\n",
    "a = [1, 9, 3, 4, 7]\n",
    "print(a)\n",
    "print(argsort(a))\n",
    "print(argsort(argsort(a)))"
   ]
  },
  {
   "cell_type": "markdown",
   "id": "5f595fa8-2de5-40b0-85cd-3d7fa1985ff7",
   "metadata": {
    "tags": []
   },
   "source": [
    "# binary search"
   ]
  },
  {
   "cell_type": "code",
   "execution_count": 11,
   "id": "f0a6e795-55f9-411b-b049-a86e089fa672",
   "metadata": {},
   "outputs": [],
   "source": [
    "import bisect"
   ]
  },
  {
   "cell_type": "code",
   "execution_count": 1,
   "id": "f2be2bf7-29c7-4155-a082-f43f18218c43",
   "metadata": {},
   "outputs": [],
   "source": [
    "def binary_search(a, x, lo=0, hi=None):\n",
    "    if hi is None: hi = len(a) - 1\n",
    "    # print(lo, hi)\n",
    "\n",
    "    mi = (lo + hi) // 2\n",
    "    if a[mi] == x: return mi\n",
    "    elif a[mi] < x: return binary_search(a, x, mi+1, hi)\n",
    "    elif x < a[mi]: return binary_search(a, x, lo, mi-1)"
   ]
  },
  {
   "cell_type": "code",
   "execution_count": 14,
   "id": "2b485ffe-16c3-4197-942d-1503aa19a8ef",
   "metadata": {},
   "outputs": [],
   "source": [
    "# all array elements unique\n",
    "a = np.sort(np.random.permutation(1000)[:100])\n",
    "x = a[np.random.randint(0, len(a))]\n",
    "assert bisect.bisect_left(a, x) == binary_search(a, x)\n",
    "assert bisect.bisect_left(a, x) < bisect.bisect_right(a, x)"
   ]
  },
  {
   "cell_type": "code",
   "execution_count": 15,
   "id": "3ce706a0-dc8f-4ea0-9bb2-e94e14dbdf18",
   "metadata": {},
   "outputs": [
    {
     "name": "stdout",
     "output_type": "stream",
     "text": [
      "811\n",
      "808\n",
      "815\n"
     ]
    }
   ],
   "source": [
    "# repeating array elements\n",
    "a = np.sort(np.random.randint(0, 100, 1000))\n",
    "x = a[np.random.randint(0, len(a))]\n",
    "print(binary_search(a, x)) # any matching index\n",
    "print(bisect.bisect_left(a, x)) # leftmost matching index\n",
    "print(bisect.bisect_right(a, x)) # rightmost matching index"
   ]
  },
  {
   "cell_type": "code",
   "execution_count": 16,
   "id": "4f9beacb-3bf2-4c24-ba71-2e4c168aa242",
   "metadata": {},
   "outputs": [
    {
     "data": {
      "text/plain": [
       "1"
      ]
     },
     "execution_count": 16,
     "metadata": {},
     "output_type": "execute_result"
    }
   ],
   "source": [
    "x = [1, 2, 3]\n",
    "cumsum = np.cumsum(np.sort(x))\n",
    "np.where(cumsum > 2)[0][0]"
   ]
  },
  {
   "cell_type": "markdown",
   "id": "f91b4e0f-3da6-4ee4-8189-370d40903f66",
   "metadata": {},
   "source": [
    "# binary tree"
   ]
  },
  {
   "cell_type": "code",
   "execution_count": 16,
   "id": "30dd0af2-18ca-449b-8ba6-3b4020afc587",
   "metadata": {},
   "outputs": [],
   "source": [
    "# assuming the following implementation\n",
    "class TreeNode:\n",
    "    def __init__(self, val=0, left=None, right=None):\n",
    "        self.val = val\n",
    "        self.left = left\n",
    "        self.right = right"
   ]
  },
  {
   "cell_type": "code",
   "execution_count": 17,
   "id": "a6871390-dee7-4585-a065-4104ae9ea804",
   "metadata": {},
   "outputs": [],
   "source": [
    "# serialize a binary tree\n",
    "def serialize(t):\n",
    "    if t is None: return '.'\n",
    "    return '-' + str(t.val) + serialize(t.left) + serialize(t.right)"
   ]
  },
  {
   "cell_type": "code",
   "execution_count": null,
   "id": "842fea45-7903-4771-b9dc-b2c598159b6b",
   "metadata": {},
   "outputs": [],
   "source": []
  }
 ],
 "metadata": {
  "kernelspec": {
   "display_name": "Python 3 (ipykernel)",
   "language": "python",
   "name": "python3"
  },
  "language_info": {
   "codemirror_mode": {
    "name": "ipython",
    "version": 3
   },
   "file_extension": ".py",
   "mimetype": "text/x-python",
   "name": "python",
   "nbconvert_exporter": "python",
   "pygments_lexer": "ipython3",
   "version": "3.9.9"
  }
 },
 "nbformat": 4,
 "nbformat_minor": 5
}
